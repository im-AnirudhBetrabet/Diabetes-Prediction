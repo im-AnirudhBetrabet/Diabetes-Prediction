{
 "cells": [
  {
   "cell_type": "code",
   "execution_count": 1,
   "id": "96c12cff-c89c-4dc8-baa0-9d394081d191",
   "metadata": {},
   "outputs": [],
   "source": [
    "import pandas  as pd\n",
    "import numpy   as np\n",
    "import seaborn as sns\n",
    "import matplotlib.pyplot as plt\n",
    "\n",
    "\n",
    "%matplotlib inline\n",
    "plt.style.use(\"tableau-colorblind10\")"
   ]
  },
  {
   "cell_type": "code",
   "execution_count": 2,
   "id": "7f7930b5-f801-47f6-83da-be2b10e14c56",
   "metadata": {},
   "outputs": [
    {
     "data": {
      "text/html": [
       "<div>\n",
       "<style scoped>\n",
       "    .dataframe tbody tr th:only-of-type {\n",
       "        vertical-align: middle;\n",
       "    }\n",
       "\n",
       "    .dataframe tbody tr th {\n",
       "        vertical-align: top;\n",
       "    }\n",
       "\n",
       "    .dataframe thead th {\n",
       "        text-align: right;\n",
       "    }\n",
       "</style>\n",
       "<table border=\"1\" class=\"dataframe\">\n",
       "  <thead>\n",
       "    <tr style=\"text-align: right;\">\n",
       "      <th></th>\n",
       "      <th>gender</th>\n",
       "      <th>age</th>\n",
       "      <th>hypertension</th>\n",
       "      <th>heart_disease</th>\n",
       "      <th>smoking_history</th>\n",
       "      <th>bmi</th>\n",
       "      <th>HbA1c_level</th>\n",
       "      <th>blood_glucose_level</th>\n",
       "      <th>diabetes</th>\n",
       "    </tr>\n",
       "  </thead>\n",
       "  <tbody>\n",
       "    <tr>\n",
       "      <th>0</th>\n",
       "      <td>Female</td>\n",
       "      <td>80.0</td>\n",
       "      <td>0</td>\n",
       "      <td>1</td>\n",
       "      <td>never</td>\n",
       "      <td>25.19</td>\n",
       "      <td>6.6</td>\n",
       "      <td>140</td>\n",
       "      <td>0</td>\n",
       "    </tr>\n",
       "    <tr>\n",
       "      <th>1</th>\n",
       "      <td>Female</td>\n",
       "      <td>54.0</td>\n",
       "      <td>0</td>\n",
       "      <td>0</td>\n",
       "      <td>No Info</td>\n",
       "      <td>27.32</td>\n",
       "      <td>6.6</td>\n",
       "      <td>80</td>\n",
       "      <td>0</td>\n",
       "    </tr>\n",
       "    <tr>\n",
       "      <th>2</th>\n",
       "      <td>Male</td>\n",
       "      <td>28.0</td>\n",
       "      <td>0</td>\n",
       "      <td>0</td>\n",
       "      <td>never</td>\n",
       "      <td>27.32</td>\n",
       "      <td>5.7</td>\n",
       "      <td>158</td>\n",
       "      <td>0</td>\n",
       "    </tr>\n",
       "    <tr>\n",
       "      <th>3</th>\n",
       "      <td>Female</td>\n",
       "      <td>36.0</td>\n",
       "      <td>0</td>\n",
       "      <td>0</td>\n",
       "      <td>current</td>\n",
       "      <td>23.45</td>\n",
       "      <td>5.0</td>\n",
       "      <td>155</td>\n",
       "      <td>0</td>\n",
       "    </tr>\n",
       "    <tr>\n",
       "      <th>4</th>\n",
       "      <td>Male</td>\n",
       "      <td>76.0</td>\n",
       "      <td>1</td>\n",
       "      <td>1</td>\n",
       "      <td>current</td>\n",
       "      <td>20.14</td>\n",
       "      <td>4.8</td>\n",
       "      <td>155</td>\n",
       "      <td>0</td>\n",
       "    </tr>\n",
       "    <tr>\n",
       "      <th>5</th>\n",
       "      <td>Female</td>\n",
       "      <td>20.0</td>\n",
       "      <td>0</td>\n",
       "      <td>0</td>\n",
       "      <td>never</td>\n",
       "      <td>27.32</td>\n",
       "      <td>6.6</td>\n",
       "      <td>85</td>\n",
       "      <td>0</td>\n",
       "    </tr>\n",
       "    <tr>\n",
       "      <th>6</th>\n",
       "      <td>Female</td>\n",
       "      <td>44.0</td>\n",
       "      <td>0</td>\n",
       "      <td>0</td>\n",
       "      <td>never</td>\n",
       "      <td>19.31</td>\n",
       "      <td>6.5</td>\n",
       "      <td>200</td>\n",
       "      <td>1</td>\n",
       "    </tr>\n",
       "    <tr>\n",
       "      <th>7</th>\n",
       "      <td>Female</td>\n",
       "      <td>79.0</td>\n",
       "      <td>0</td>\n",
       "      <td>0</td>\n",
       "      <td>No Info</td>\n",
       "      <td>23.86</td>\n",
       "      <td>5.7</td>\n",
       "      <td>85</td>\n",
       "      <td>0</td>\n",
       "    </tr>\n",
       "    <tr>\n",
       "      <th>8</th>\n",
       "      <td>Male</td>\n",
       "      <td>42.0</td>\n",
       "      <td>0</td>\n",
       "      <td>0</td>\n",
       "      <td>never</td>\n",
       "      <td>33.64</td>\n",
       "      <td>4.8</td>\n",
       "      <td>145</td>\n",
       "      <td>0</td>\n",
       "    </tr>\n",
       "    <tr>\n",
       "      <th>9</th>\n",
       "      <td>Female</td>\n",
       "      <td>32.0</td>\n",
       "      <td>0</td>\n",
       "      <td>0</td>\n",
       "      <td>never</td>\n",
       "      <td>27.32</td>\n",
       "      <td>5.0</td>\n",
       "      <td>100</td>\n",
       "      <td>0</td>\n",
       "    </tr>\n",
       "  </tbody>\n",
       "</table>\n",
       "</div>"
      ],
      "text/plain": [
       "   gender   age  hypertension  heart_disease smoking_history    bmi  \\\n",
       "0  Female  80.0             0              1           never  25.19   \n",
       "1  Female  54.0             0              0         No Info  27.32   \n",
       "2    Male  28.0             0              0           never  27.32   \n",
       "3  Female  36.0             0              0         current  23.45   \n",
       "4    Male  76.0             1              1         current  20.14   \n",
       "5  Female  20.0             0              0           never  27.32   \n",
       "6  Female  44.0             0              0           never  19.31   \n",
       "7  Female  79.0             0              0         No Info  23.86   \n",
       "8    Male  42.0             0              0           never  33.64   \n",
       "9  Female  32.0             0              0           never  27.32   \n",
       "\n",
       "   HbA1c_level  blood_glucose_level  diabetes  \n",
       "0          6.6                  140         0  \n",
       "1          6.6                   80         0  \n",
       "2          5.7                  158         0  \n",
       "3          5.0                  155         0  \n",
       "4          4.8                  155         0  \n",
       "5          6.6                   85         0  \n",
       "6          6.5                  200         1  \n",
       "7          5.7                   85         0  \n",
       "8          4.8                  145         0  \n",
       "9          5.0                  100         0  "
      ]
     },
     "execution_count": 2,
     "metadata": {},
     "output_type": "execute_result"
    }
   ],
   "source": [
    "df = pd.read_csv(\"./content/diabetes_prediction_dataset.csv\")    ## importing the dataset\n",
    "df.head(10)                                                      ## viewing the first 10 rows of the dataset."
   ]
  },
  {
   "cell_type": "markdown",
   "id": "79dee855-a32b-4584-ac75-6621ecc2ea1e",
   "metadata": {},
   "source": [
    "## Exploratory Data Analysis"
   ]
  },
  {
   "cell_type": "markdown",
   "id": "aa4b5828-e6cb-45fc-bb9f-2f50d393b7fb",
   "metadata": {},
   "source": [
    "### Gender"
   ]
  },
  {
   "cell_type": "code",
   "execution_count": 5,
   "id": "c4d782d9-28a0-4b2d-8677-df68dc147a1f",
   "metadata": {},
   "outputs": [
    {
     "data": {
      "image/png": "[encoded data removed]",
      "text/plain": [
       "<Figure size 1200x400 with 2 Axes>"
      ]
     },
     "metadata": {},
     "output_type": "display_data"
    }
   ],
   "source": [
    "gender_distribution_plot = plt.figure(figsize=(12, 4))\n",
    "plt.subplot(1, 2, 1)\n",
    "sns.countplot(data=df, x='gender', order=df['gender'].value_counts().index)\n",
    "plt.title('Distribution of Gender')\n",
    "plt.xlabel('Gender')\n",
    "plt.ylabel('Count')\n",
    "plt.grid(axis='y', linestyle='--', alpha=0.7)\n",
    "\n",
    "plt.subplot(1, 2, 2)\n",
    "sns.countplot(data=df, x='gender', hue='diabetes', palette='viridis', order=df['gender'].value_counts().index)\n",
    "plt.title('Gender Distribution by Diabetes Status')\n",
    "plt.xlabel('Gender')\n",
    "plt.ylabel('Count')\n",
    "plt.legend(title='Diabetes', labels=['No Diabetes', 'Diabetes'])\n",
    "plt.grid(axis='y', linestyle='--', alpha=0.7)\n",
    "\n",
    "plt.savefig(\"./plots/gender_distribution.jpeg\")\n",
    "plt.show()"
   ]
  },
  {
   "cell_type": "markdown",
   "id": "861905b0-9c2c-4096-a98a-5e2fd8634678",
   "metadata": {},
   "source": [
    "### Age"
   ]
  },
  {
   "cell_type": "code",
   "execution_count": 7,
   "id": "626a155d-1944-4b38-856f-cac025cf184a",
   "metadata": {},
   "outputs": [
    {
     "data": {
      "text/plain": [
       "count    100000.000000\n",
       "mean         41.885856\n",
       "std          22.516840\n",
       "min           0.080000\n",
       "25%          24.000000\n",
       "50%          43.000000\n",
       "75%          60.000000\n",
       "max          80.000000\n",
       "Name: age, dtype: float64"
      ]
     },
     "execution_count": 7,
     "metadata": {},
     "output_type": "execute_result"
    }
   ],
   "source": [
    "df['age'].describe() ## Viewing stats for the age column"
   ]
  },
  {
   "cell_type": "code",
   "execution_count": 8,
   "id": "25efac8d-14c4-4854-bfc6-98a20bccc6e2",
   "metadata": {},
   "outputs": [
    {
     "ename": "SyntaxError",
     "evalue": "unterminated string literal (detected at line 36) (3501539990.py, line 36)",
     "output_type": "error",
     "traceback": [
      "\u001b[1;36m  Cell \u001b[1;32mIn[8], line 36\u001b[1;36m\u001b[0m\n\u001b[1;33m    plt.legend(title='Diabetes', labels=['No Diabetes', 'Diabetes\u001b[0m\n\u001b[1;37m                                                        ^\u001b[0m\n\u001b[1;31mSyntaxError\u001b[0m\u001b[1;31m:\u001b[0m unterminated string literal (detected at line 36)\n"
     ]
    }
   ],
   "source": [
    "age_distribution_plot = plt.figure(figsize=(16, 14))\n",
    "\n",
    "plt.subplot(3, 2, 1)\n",
    "plt.subplots_adjust(wspace=0.3, hspace=0.3)                      ## Setting padding between each subplot.\n",
    "sns.histplot(data=df, x=\"age\", kde=True, bins=4)                 ## Creating a histogram to view the distribution of ages.\n",
    "plt.title(\"Age Distribution\")\n",
    "plt.grid(axis='y', linestyle='--', alpha=1)\n",
    "plt.xlabel(\"Age\")\n",
    "\n",
    "plt.subplot(3, 2, 2)\n",
    "sns.boxplot(data=df, x='heart_disease', y='age')                 ## Creating a box plot to view the occurence of heart disease in various ages.\n",
    "plt.title('Age Distribution by heart disease status')\n",
    "plt.xlabel('Heart disease (0: No, 1: Yes)')\n",
    "plt.ylabel('Age')\n",
    "plt.grid(axis='y', linestyle='--', alpha=0.7)\n",
    "\n",
    "plt.subplot(3, 2, 3)\n",
    "sns.boxplot(data=df, x='hypertension', y='age')                  ## Creating a box plot to view the occurence of hypertension in various ages.\n",
    "plt.title('Age Distribution by hypertension status')\n",
    "plt.xlabel('hypertension (0: No, 1: Yes)')\n",
    "plt.ylabel('Age')\n",
    "plt.grid(axis='y', linestyle='--', alpha=0.7)\n",
    "\n",
    "plt.subplot(3, 2, 4)\n",
    "sns.boxplot(data=df, x='diabetes', y='age')                      ## Creating a box plot to view the occurence of diabetes in various ages.\n",
    "plt.title('Age Distribution by diabetes status')\n",
    "plt.xlabel('Diabetes (0: No, 1: Yes)')\n",
    "plt.ylabel('Age')\n",
    "plt.grid(axis='y', linestyle='--', alpha=0.7)\n",
    "\n",
    "plt.subplot(3, 2, 5)\n",
    "sns.kdeplot(data=df, x='age', hue='diabetes', fill=True, common_norm=False, palette='viridis')\n",
    "plt.title('Age Distribution by Diabetes Status', fontsize=16)\n",
    "plt.xlabel('Age', fontsize=12)\n",
    "plt.ylabel('Density', fontsize=12)\n",
    "plt.legend(title='Diabetes', labels=['No Diabetes', 'Diabetes])\n",
    "                                     \n",
    "plt.savefig(\"./plots/age_distribution.jpeg\")\n",
    "plt.show()"
   ]
  },
  {
   "cell_type": "markdown",
   "id": "00d2c2f8-56fa-4b47-a620-d1eafb94b53f",
   "metadata": {},
   "source": [
    "#### **Observations**:\n",
    "- From the distribution plot for age, we can observe that the majority of our data points are from individuals in the 41-60 age group.\n",
    "- From the box plot for heart disease v/s age, we can observe that heart disease is quite prevelant in the 60 - 80 age group with quite a few outliers below 35.\n",
    "- From the box plot for hypertension v/s age, we can observe that hypertension is quite prevelant in the 50 - 75 age group with a few outliers below 20.\n",
    "- From the box plot for diabetes status v/s age, we can observe that diabetes is prevelant in the 50 - 75 age group with outliers below 22 years."
   ]
  },
  {
   "cell_type": "markdown",
   "id": "d8243b4a-ad4f-4b59-b212-ddcbe673713e",
   "metadata": {},
   "source": [
    "### Heart disease and Hypertension"
   ]
  },
  {
   "cell_type": "code",
   "execution_count": null,
   "id": "e151adf0-9251-4c3d-b881-e24de23c218c",
   "metadata": {},
   "outputs": [],
   "source": [
    "contingency_table = pd.crosstab(df['heart_disease'], df['hypertension'])\n",
    "print(\"Contingency Table (Counts):\")\n",
    "print(contingency_table)"
   ]
  },
  {
   "cell_type": "code",
   "execution_count": null,
   "id": "7e157cb2-67c4-4db4-a4d2-6c9a5494d40e",
   "metadata": {},
   "outputs": [],
   "source": [
    "contingency_table.plot(kind=\"bar\", stacked=True, figsize=(10, 7))\n",
    "plt.title('Relationship between Hypertension and Heart Disease', fontsize=16)\n",
    "plt.xlabel('Hypertension (0: No, 1: Yes)', fontsize=12)\n",
    "plt.ylabel('Count', fontsize=12)\n",
    "plt.xticks(rotation=0)\n",
    "plt.legend(title='Heart Disease', labels=['No', 'Yes'])\n",
    "plt.show()\n",
    "plt.show()"
   ]
  },
  {
   "cell_type": "code",
   "execution_count": null,
   "id": "929e20b0-94a7-4910-884a-7e539b442903",
   "metadata": {},
   "outputs": [],
   "source": [
    "df[['heart_disease', 'hypertension']].corr()"
   ]
  },
  {
   "cell_type": "markdown",
   "id": "77816381-10c4-420b-af81-158e853a549e",
   "metadata": {},
   "source": [
    "#### **Observations**:\n",
    "- From the contingency table and stacked bar chart, we can see that there is a correlation between heart disease and hypertension. However on further analysis of correlation coefficent (0.1212) we can infer that there is a weak linear correlation.  "
   ]
  }
 ],
 "metadata": {
  "kernelspec": {
   "display_name": "Python [conda env:base] *",
   "language": "python",
   "name": "conda-base-py"
  },
  "language_info": {
   "codemirror_mode": {
    "name": "ipython",
    "version": 3
   },
   "file_extension": ".py",
   "mimetype": "text/x-python",
   "name": "python",
   "nbconvert_exporter": "python",
   "pygments_lexer": "ipython3",
   "version": "3.12.7"
  }
 },
 "nbformat": 4,
 "nbformat_minor": 5
}
